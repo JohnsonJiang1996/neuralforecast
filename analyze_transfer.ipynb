{
 "cells": [
  {
   "cell_type": "code",
   "execution_count": 2,
   "metadata": {},
   "outputs": [
    {
     "name": "stderr",
     "output_type": "stream",
     "text": [
      "INFO:torch.distributed.nn.jit.instantiator:Created a temporary directory at /tmp/tmpx4myy7e_\n",
      "INFO:torch.distributed.nn.jit.instantiator:Writing /tmp/tmpx4myy7e_/_remote_module_non_scriptable.py\n"
     ]
    }
   ],
   "source": [
    "import pandas as pd\n",
    "import numpy as np\n",
    "import matplotlib.pyplot as plt\n",
    "from datasetsforecast.m4 import M4\n",
    "from config_models import MODEL_LIST\n",
    "\n",
    "from neuralforecast.losses.numpy import mae, mse, smape, mqloss"
   ]
  },
  {
   "cell_type": "code",
   "execution_count": null,
   "metadata": {},
   "outputs": [],
   "source": [
    "source_dataset = 'M4'\n",
    "#target_dataset = 'M3'\n",
    "k_shot=0\n",
    "experiment_id = '20230816'\n",
    "\n",
    "#final_df = pd.DataFrame(columns=['model', 'smape', 'mae', 'mqloss'])\n",
    "mae_df = pd.DataFrame(columns = ['dataset', 'frequency'] + MODEL_LIST)\n",
    "smape_df = pd.DataFrame(columns = ['dataset', 'frequency'] + MODEL_LIST)\n",
    "mqloss_df = pd.DataFrame(columns = ['dataset', 'frequency'] + MODEL_LIST)\n",
    "\n",
    "for target_dataset in ['M3']: # , 'AirPassengers', 'ILI', 'TrafficL'\n",
    "    for frequency in ['yearly','quarterly','monthly','daily']:\n",
    "        mae_list = []\n",
    "        smape_list = []\n",
    "        mqloss_list = []\n",
    "        for model in MODEL_LIST:\n",
    "            results_df = pd.read_csv(f'./results/transferability/forecasts/{target_dataset}/{frequency}/{model}_{k_shot}_{source_dataset}_{experiment_id}.csv').reset_index(drop=True)\n",
    "\n",
    "            smape_loss = 100*smape(results_df['y'], results_df.iloc[:,8])\n",
    "            mae_loss = mae(results_df['y'], results_df.iloc[:,8])\n",
    "            mq_loss = mqloss(y=results_df['y'], y_hat=results_df.iloc[:,4:13], quantiles=np.array([0.1, 0.2, 0.3, 0.4, 0.5, 0.6, 0.7, 0.8, 0.9]))\n",
    "            mae_list.append(np.round(mae_loss,3))\n",
    "            smape_list.append(np.round(smape_loss,3))\n",
    "            mqloss_list.append(np.round(mq_loss,3))\n",
    "\n",
    "        mae_df = pd.concat([mae_df, pd.DataFrame({'dataset': [target_dataset], 'frequency': [frequency], **dict(zip(MODEL_LIST, mae_list))})], ignore_index=True)\n",
    "        smape_df = pd.concat([smape_df, pd.DataFrame({'dataset': [target_dataset], 'frequency': [frequency], **dict(zip(MODEL_LIST, smape_list))})], ignore_index=True)\n",
    "        mqloss_df = pd.concat([mqloss_df, pd.DataFrame({'dataset': [target_dataset], 'frequency': [frequency], **dict(zip(MODEL_LIST, mqloss_list))})], ignore_index=True)"
   ]
  },
  {
   "cell_type": "code",
   "execution_count": null,
   "metadata": {},
   "outputs": [],
   "source": [
    "smape_df"
   ]
  },
  {
   "cell_type": "code",
   "execution_count": null,
   "metadata": {},
   "outputs": [],
   "source": [
    "source_dataset = 'wiki'\n",
    "#target_dataset = 'M3'\n",
    "k_shot=0\n",
    "experiment_id = '20230816'\n",
    "\n",
    "#final_df = pd.DataFrame(columns=['model', 'smape', 'mae', 'mqloss'])\n",
    "mae_df = pd.DataFrame(columns = ['dataset', 'frequency'] + MODEL_LIST)\n",
    "smape_df = pd.DataFrame(columns = ['dataset', 'frequency'] + MODEL_LIST)\n",
    "mqloss_df = pd.DataFrame(columns = ['dataset', 'frequency'] + MODEL_LIST)\n",
    "\n",
    "for target_dataset in ['M3']: # , 'AirPassengers', 'ILI', 'TrafficL'\n",
    "    for frequency in ['daily', 'monthly']: # 'yearly','quarterly','monthly',\n",
    "        mae_list = []\n",
    "        smape_list = []\n",
    "        mqloss_list = []\n",
    "        for model in MODEL_LIST:\n",
    "            results_df = pd.read_csv(f'./results/transferability/forecasts/{target_dataset}/{frequency}/{model}_{k_shot}_{source_dataset}_{experiment_id}.csv').reset_index(drop=True)\n",
    "\n",
    "            smape_loss = 100*smape(results_df['y'], results_df.iloc[:,8])\n",
    "            mae_loss = mae(results_df['y'], results_df.iloc[:,8])\n",
    "            mq_loss = mqloss(y=results_df['y'], y_hat=results_df.iloc[:,4:13], quantiles=np.array([0.1, 0.2, 0.3, 0.4, 0.5, 0.6, 0.7, 0.8, 0.9]))\n",
    "            mae_list.append(np.round(mae_loss,3))\n",
    "            smape_list.append(np.round(smape_loss,3))\n",
    "            mqloss_list.append(np.round(mq_loss,3))\n",
    "\n",
    "        mae_df = pd.concat([mae_df, pd.DataFrame({'dataset': [target_dataset], 'frequency': [frequency], **dict(zip(MODEL_LIST, mae_list))})], ignore_index=True)\n",
    "        smape_df = pd.concat([smape_df, pd.DataFrame({'dataset': [target_dataset], 'frequency': [frequency], **dict(zip(MODEL_LIST, smape_list))})], ignore_index=True)\n",
    "        mqloss_df = pd.concat([mqloss_df, pd.DataFrame({'dataset': [target_dataset], 'frequency': [frequency], **dict(zip(MODEL_LIST, mqloss_list))})], ignore_index=True)"
   ]
  },
  {
   "cell_type": "code",
   "execution_count": null,
   "metadata": {},
   "outputs": [],
   "source": [
    "smape_df"
   ]
  },
  {
   "cell_type": "code",
   "execution_count": null,
   "metadata": {},
   "outputs": [],
   "source": [
    "experiment_id = '20230816'\n",
    "BASELINES = ['naive', 'autoarima', 'arima']\n",
    "#final_df = pd.DataFrame(columns=['model', 'smape', 'mae', 'mqloss'])\n",
    "mae_df = pd.DataFrame(columns = ['dataset', 'frequency'] + BASELINES)\n",
    "smape_df = pd.DataFrame(columns = ['dataset', 'frequency'] + BASELINES)\n",
    "#mqloss_df = pd.DataFrame(columns = ['dataset', 'frequency'] + MODEL_LIST)\n",
    "\n",
    "for target_dataset in ['M3']: # , 'AirPassengers', 'ILI', 'TrafficL'\n",
    "    for frequency in ['yearly','quarterly','monthly','daily']:\n",
    "        mae_list = []\n",
    "        smape_list = []\n",
    "        mqloss_list = []\n",
    "        for model in BASELINES:\n",
    "            results_df = pd.read_csv(f'./results/transferability/forecasts/{target_dataset}/{frequency}/{model}_{experiment_id}.csv').reset_index(drop=True)\n",
    "\n",
    "            smape_loss = 100*smape(results_df['y'], results_df.iloc[:,3])\n",
    "            mae_loss = mae(results_df['y'], results_df.iloc[:,3])\n",
    "            #mq_loss = mqloss(y=results_df['y'], y_hat=results_df.iloc[:,4:13], quantiles=np.array([0.1, 0.2, 0.3, 0.4, 0.5, 0.6, 0.7, 0.8, 0.9]))\n",
    "            mae_list.append(np.round(mae_loss, 3))\n",
    "            smape_list.append(np.round(smape_loss, 3))\n",
    "            #mqloss_list.append(np.round(mq_loss,3))\n",
    "\n",
    "        mae_df = pd.concat([mae_df, pd.DataFrame({'dataset': [target_dataset], 'frequency': [frequency], **dict(zip(BASELINES, mae_list))})], ignore_index=True)\n",
    "        smape_df = pd.concat([smape_df, pd.DataFrame({'dataset': [target_dataset], 'frequency': [frequency], **dict(zip(BASELINES, smape_list))})], ignore_index=True)\n",
    "        # mqloss_df = pd.concat([mqloss_df, pd.DataFrame({'dataset': [target_dataset], 'frequency': [frequency], **dict(zip(MODEL_LIST, mqloss_list))})], ignore_index=True)"
   ]
  },
  {
   "cell_type": "code",
   "execution_count": null,
   "metadata": {},
   "outputs": [],
   "source": [
    "smape_df"
   ]
  },
  {
   "cell_type": "code",
   "execution_count": 3,
   "metadata": {},
   "outputs": [],
   "source": [
    "experiment_id = 'no_usar'\n",
    "BASELINES = ['autoarima']\n",
    "#final_df = pd.DataFrame(columns=['model', 'smape', 'mae', 'mqloss'])\n",
    "mae_df = pd.DataFrame(columns = ['dataset', 'frequency'] + BASELINES)\n",
    "smape_df = pd.DataFrame(columns = ['dataset', 'frequency'] + BASELINES)\n",
    "#mqloss_df = pd.DataFrame(columns = ['dataset', 'frequency'] + MODEL_LIST)\n",
    "\n",
    "for target_dataset in ['M3']: # , 'AirPassengers', 'ILI', 'TrafficL'\n",
    "    for frequency in ['monthly']:\n",
    "        mae_list = []\n",
    "        smape_list = []\n",
    "        mqloss_list = []\n",
    "        for model in BASELINES:\n",
    "            results_df = pd.read_csv(f'./results/transferability/forecasts/{target_dataset}/{frequency}/{model}_{experiment_id}.csv').reset_index(drop=True)\n",
    "\n",
    "            smape_loss = 100*smape(results_df['y'], results_df.iloc[:,3])\n",
    "            mae_loss = mae(results_df['y'], results_df.iloc[:,3])\n",
    "            #mq_loss = mqloss(y=results_df['y'], y_hat=results_df.iloc[:,4:13], quantiles=np.array([0.1, 0.2, 0.3, 0.4, 0.5, 0.6, 0.7, 0.8, 0.9]))\n",
    "            mae_list.append(np.round(mae_loss, 3))\n",
    "            smape_list.append(np.round(smape_loss, 3))\n",
    "            #mqloss_list.append(np.round(mq_loss,3))\n",
    "\n",
    "        mae_df = pd.concat([mae_df, pd.DataFrame({'dataset': [target_dataset], 'frequency': [frequency], **dict(zip(BASELINES, mae_list))})], ignore_index=True)\n",
    "        smape_df = pd.concat([smape_df, pd.DataFrame({'dataset': [target_dataset], 'frequency': [frequency], **dict(zip(BASELINES, smape_list))})], ignore_index=True)\n",
    "        # mqloss_df = pd.concat([mqloss_df, pd.DataFrame({'dataset': [target_dataset], 'frequency': [frequency], **dict(zip(MODEL_LIST, mqloss_list))})], ignore_index=True)"
   ]
  },
  {
   "cell_type": "code",
   "execution_count": 4,
   "metadata": {},
   "outputs": [
    {
     "data": {
      "text/html": [
       "<div>\n",
       "<style scoped>\n",
       "    .dataframe tbody tr th:only-of-type {\n",
       "        vertical-align: middle;\n",
       "    }\n",
       "\n",
       "    .dataframe tbody tr th {\n",
       "        vertical-align: top;\n",
       "    }\n",
       "\n",
       "    .dataframe thead th {\n",
       "        text-align: right;\n",
       "    }\n",
       "</style>\n",
       "<table border=\"1\" class=\"dataframe\">\n",
       "  <thead>\n",
       "    <tr style=\"text-align: right;\">\n",
       "      <th></th>\n",
       "      <th>dataset</th>\n",
       "      <th>frequency</th>\n",
       "      <th>autoarima</th>\n",
       "    </tr>\n",
       "  </thead>\n",
       "  <tbody>\n",
       "    <tr>\n",
       "      <th>0</th>\n",
       "      <td>M3</td>\n",
       "      <td>monthly</td>\n",
       "      <td>15.35</td>\n",
       "    </tr>\n",
       "  </tbody>\n",
       "</table>\n",
       "</div>"
      ],
      "text/plain": [
       "  dataset frequency  autoarima\n",
       "0      M3   monthly      15.35"
      ]
     },
     "execution_count": 4,
     "metadata": {},
     "output_type": "execute_result"
    }
   ],
   "source": [
    "smape_df"
   ]
  },
  {
   "cell_type": "code",
   "execution_count": 5,
   "metadata": {},
   "outputs": [
    {
     "data": {
      "text/html": [
       "<div>\n",
       "<style scoped>\n",
       "    .dataframe tbody tr th:only-of-type {\n",
       "        vertical-align: middle;\n",
       "    }\n",
       "\n",
       "    .dataframe tbody tr th {\n",
       "        vertical-align: top;\n",
       "    }\n",
       "\n",
       "    .dataframe thead th {\n",
       "        text-align: right;\n",
       "    }\n",
       "</style>\n",
       "<table border=\"1\" class=\"dataframe\">\n",
       "  <thead>\n",
       "    <tr style=\"text-align: right;\">\n",
       "      <th></th>\n",
       "      <th>dataset</th>\n",
       "      <th>frequency</th>\n",
       "      <th>autoarima</th>\n",
       "    </tr>\n",
       "  </thead>\n",
       "  <tbody>\n",
       "    <tr>\n",
       "      <th>0</th>\n",
       "      <td>M3</td>\n",
       "      <td>monthly</td>\n",
       "      <td>666.82</td>\n",
       "    </tr>\n",
       "  </tbody>\n",
       "</table>\n",
       "</div>"
      ],
      "text/plain": [
       "  dataset frequency  autoarima\n",
       "0      M3   monthly     666.82"
      ]
     },
     "execution_count": 5,
     "metadata": {},
     "output_type": "execute_result"
    }
   ],
   "source": [
    "mae_df"
   ]
  },
  {
   "cell_type": "code",
   "execution_count": null,
   "metadata": {},
   "outputs": [],
   "source": []
  }
 ],
 "metadata": {
  "kernelspec": {
   "display_name": "neuralforecast",
   "language": "python",
   "name": "neuralforecast"
  },
  "language_info": {
   "codemirror_mode": {
    "name": "ipython",
    "version": 3
   },
   "file_extension": ".py",
   "mimetype": "text/x-python",
   "name": "python",
   "nbconvert_exporter": "python",
   "pygments_lexer": "ipython3",
   "version": "3.10.12"
  },
  "orig_nbformat": 4
 },
 "nbformat": 4,
 "nbformat_minor": 2
}
