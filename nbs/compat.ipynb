{
 "cells": [
  {
   "cell_type": "code",
   "execution_count": null,
   "id": "5249c572-4dca-4d8d-9f4b-3021db23a200",
   "metadata": {},
   "outputs": [],
   "source": [
    "#| default_exp compat"
   ]
  },
  {
   "cell_type": "code",
   "execution_count": null,
   "id": "17c6c9d3-5e14-4e16-b8bd-619953e605df",
   "metadata": {},
   "outputs": [],
   "source": [
    "#| export\n",
    "try:\n",
    "    from pyspark.sql import DataFrame as SparkDataFrame\n",
    "except ImportError:\n",
    "    class SparkDataFrame: ..."
   ]
  }
 ],
 "metadata": {
  "kernelspec": {
   "display_name": "python3",
   "language": "python",
   "name": "python3"
  }
 },
 "nbformat": 4,
 "nbformat_minor": 5
}
