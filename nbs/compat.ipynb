{
 "cells": [
  {
   "cell_type": "code",
   "execution_count": 1,
   "id": "5249c572-4dca-4d8d-9f4b-3021db23a200",
   "metadata": {
    "execution": {
     "iopub.execute_input": "2024-02-26T23:14:35.522734Z",
     "iopub.status.busy": "2024-02-26T23:14:35.522119Z",
     "iopub.status.idle": "2024-02-26T23:14:35.531733Z",
     "shell.execute_reply": "2024-02-26T23:14:35.529561Z",
     "shell.execute_reply.started": "2024-02-26T23:14:35.522680Z"
    }
   },
   "outputs": [],
   "source": [
    "#| default_exp compat"
   ]
  },
  {
   "cell_type": "code",
   "execution_count": 2,
   "id": "17c6c9d3-5e14-4e16-b8bd-619953e605df",
   "metadata": {
    "execution": {
     "iopub.execute_input": "2024-02-26T23:15:13.377454Z",
     "iopub.status.busy": "2024-02-26T23:15:13.376447Z",
     "iopub.status.idle": "2024-02-26T23:15:14.669701Z",
     "shell.execute_reply": "2024-02-26T23:15:14.669139Z",
     "shell.execute_reply.started": "2024-02-26T23:15:13.377382Z"
    }
   },
   "outputs": [],
   "source": [
    "#| export\n",
    "try:\n",
    "    from pyspark.sql import DataFrame as SparkDataFrame\n",
    "except ImportError:\n",
    "    class SparkDataFrame: ..."
   ]
  }
 ],
 "metadata": {
  "kernelspec": {
   "display_name": "Python 3 (ipykernel)",
   "language": "python",
   "name": "python3"
  },
  "language_info": {
   "codemirror_mode": {
    "name": "ipython",
    "version": 3
   },
   "file_extension": ".py",
   "mimetype": "text/x-python",
   "name": "python",
   "nbconvert_exporter": "python",
   "pygments_lexer": "ipython3",
   "version": "3.11.6"
  }
 },
 "nbformat": 4,
 "nbformat_minor": 5
}
