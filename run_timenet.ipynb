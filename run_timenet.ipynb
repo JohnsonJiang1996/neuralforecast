{
 "cells": [
  {
   "cell_type": "code",
   "execution_count": null,
   "metadata": {},
   "outputs": [],
   "source": [
    "import pandas as pd\n",
    "\n",
    "from neuralforecast.models import *\n",
    "from neuralforecast.core import NeuralForecast\n",
    "from neuralforecast.losses.pytorch import MAE"
   ]
  },
  {
   "cell_type": "code",
   "execution_count": null,
   "metadata": {},
   "outputs": [],
   "source": [
    "HORIZON = 12\n",
    "LOSS = MAE()"
   ]
  },
  {
   "cell_type": "code",
   "execution_count": null,
   "metadata": {},
   "outputs": [],
   "source": [
    "Y_df = pd.read_parquet('s3://timenet/monash_1.parquet')"
   ]
  },
  {
   "cell_type": "code",
   "execution_count": null,
   "metadata": {},
   "outputs": [],
   "source": [
    "Y_df.dtypes"
   ]
  },
  {
   "cell_type": "code",
   "execution_count": null,
   "metadata": {},
   "outputs": [],
   "source": [
    "Y_df"
   ]
  },
  {
   "cell_type": "code",
   "execution_count": null,
   "metadata": {},
   "outputs": [],
   "source": [
    "Y_df.dataset.value_counts()"
   ]
  },
  {
   "cell_type": "code",
   "execution_count": null,
   "metadata": {},
   "outputs": [],
   "source": [
    "Y_df.frequency.value_counts()"
   ]
  },
  {
   "cell_type": "code",
   "execution_count": null,
   "metadata": {},
   "outputs": [],
   "source": [
    "model = NHITS(h=HORIZON,\n",
    "                input_size=HORIZON,\n",
    "                stack_types=3*['identity'],\n",
    "                mlp_units=3 * [[1024, 1024, 1024, 1024]],\n",
    "                n_blocks=3*[10],\n",
    "                n_pool_kernel_size=3*[1],\n",
    "                n_freq_downsample=[6, 2, 1],\n",
    "                loss=LOSS,\n",
    "                learning_rate=1e-4,\n",
    "                early_stop_patience_steps=5,\n",
    "                val_check_steps=500,\n",
    "                scaler_type='minmax1',\n",
    "                max_steps=1000, # Partition steps\n",
    "                batch_size=256,\n",
    "                windows_batch_size=1024,\n",
    "                random_seed=1)"
   ]
  },
  {
   "cell_type": "code",
   "execution_count": null,
   "metadata": {},
   "outputs": [],
   "source": [
    "nf = NeuralForecast(models=[model], freq='10min')"
   ]
  },
  {
   "cell_type": "code",
   "execution_count": null,
   "metadata": {},
   "outputs": [],
   "source": [
    "for partition in range(16):\n",
    "    print(f'Partition {partition}')\n",
    "    Y_df = pd.read_parquet('s3://timenet/monash_1.parquet')\n",
    "    Y_df = Y_df[['unique_id', 'ds', 'y']]\n",
    "    nf.fit(df=Y_df, use_init_models=False, val_size=HORIZON)"
   ]
  },
  {
   "cell_type": "code",
   "execution_count": null,
   "metadata": {},
   "outputs": [],
   "source": []
  }
 ],
 "metadata": {
  "kernelspec": {
   "display_name": "neuralforecast",
   "language": "python",
   "name": "python3"
  },
  "language_info": {
   "codemirror_mode": {
    "name": "ipython",
    "version": 3
   },
   "file_extension": ".py",
   "mimetype": "text/x-python",
   "name": "python",
   "nbconvert_exporter": "python",
   "pygments_lexer": "ipython3",
   "version": "3.10.11"
  },
  "orig_nbformat": 4
 },
 "nbformat": 4,
 "nbformat_minor": 2
}
