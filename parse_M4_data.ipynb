{
 "cells": [
  {
   "cell_type": "code",
   "execution_count": 1,
   "metadata": {},
   "outputs": [],
   "source": [
    "import hashlib\n",
    "import numpy as np\n",
    "import pandas as pd\n",
    "\n",
    "from datasetsforecast.m4 import M4"
   ]
  },
  {
   "cell_type": "code",
   "execution_count": 2,
   "metadata": {},
   "outputs": [],
   "source": [
    "def _create_ds(unique_id, start, periods, freq):\n",
    "    total_dates = pd.date_range(start=start, periods=periods, freq=freq)\n",
    "    time_series = pd.DataFrame({'ts_name': unique_id, 'ds': total_dates})\n",
    "    return time_series"
   ]
  },
  {
   "cell_type": "code",
   "execution_count": 3,
   "metadata": {},
   "outputs": [],
   "source": [
    "def parse_monthly(Y_df, dates):\n",
    "\n",
    "    counts = Y_df.groupby('unique_id').count().reset_index()[['unique_id', 'y']]\n",
    "    counts.columns = ['unique_id', 'count']\n",
    "\n",
    "    dates = dates.copy()\n",
    "    dates = dates[dates['SP'] == 'Monthly'].reset_index(drop=True)\n",
    "    dates = dates.merge(counts, left_on='M4id', right_on='unique_id')\n",
    "\n",
    "    def parse_date(x):\n",
    "        if len(x) == 14:\n",
    "            if int(x[6:8]) < 17:\n",
    "                return '20' + x[6:8] + '-' + x[3:5] + '-01'\n",
    "            else:\n",
    "                return '19' + x[6:8] + '-' + x[3:5] + '-01'\n",
    "        elif len(x) == 19:\n",
    "            return x[:10]\n",
    "\n",
    "    dates['StartingDate'] = dates['StartingDate'].apply(parse_date)\n",
    "    assert len(dates[dates['StartingDate'].isnull()]) == 0\n",
    "\n",
    "    ds_df = pd.concat([_create_ds(row[1]['M4id'],\n",
    "                                row[1]['StartingDate'],\n",
    "                                row[1]['count'],\n",
    "                                frequency_map['Monthly']) for row in dates.iterrows()])\n",
    "\n",
    "    ds_df = ds_df.sort_values(by=['ts_name', 'ds']).reset_index(drop=True)\n",
    "    np.all(Y_df['unique_id'] == ds_df['ts_name'])\n",
    "    Y_df['ds'] = ds_df['ds']\n",
    "\n",
    "    return Y_df"
   ]
  },
  {
   "cell_type": "code",
   "execution_count": 4,
   "metadata": {},
   "outputs": [],
   "source": [
    "frequency_map = {'Monthly': 'MS', 'Quarterly': 'Q', 'Yearly': 'Y', 'Weekly': 'W'}\n",
    "\n",
    "Y_df, _, _ = M4.load(directory='./', group='Monthly', cache=True)\n",
    "dates = pd.read_csv('https://raw.githubusercontent.com/Mcompetitions/M4-methods/master/Dataset/M4-info.csv')"
   ]
  },
  {
   "cell_type": "code",
   "execution_count": 5,
   "metadata": {},
   "outputs": [],
   "source": [
    "Y_df = parse_monthly(Y_df, dates)"
   ]
  },
  {
   "cell_type": "code",
   "execution_count": 6,
   "metadata": {},
   "outputs": [],
   "source": [
    "Y_df['dataset'] = 'M4_monthly'\n",
    "Y_df['frequency'] = 'MS'\n",
    "Y_df['to_hash'] = Y_df['dataset'] + '_' + Y_df['unique_id']\n",
    "Y_df = Y_df[['to_hash', 'ds', 'y', 'dataset','frequency']]\n",
    "Y_df['unique_id'] = Y_df['to_hash'].apply(lambda x: hashlib.sha1(x.encode()).hexdigest())\n",
    "Y_df = Y_df[['unique_id', 'ds', 'y', 'dataset', 'frequency']]"
   ]
  },
  {
   "cell_type": "code",
   "execution_count": 7,
   "metadata": {},
   "outputs": [],
   "source": [
    "Y_df.to_parquet('M4_monthly.parquet', index=False)"
   ]
  },
  {
   "attachments": {},
   "cell_type": "markdown",
   "metadata": {},
   "source": []
  }
 ],
 "metadata": {
  "kernelspec": {
   "display_name": "neuralforecast",
   "language": "python",
   "name": "python3"
  },
  "language_info": {
   "codemirror_mode": {
    "name": "ipython",
    "version": 3
   },
   "file_extension": ".py",
   "mimetype": "text/x-python",
   "name": "python",
   "nbconvert_exporter": "python",
   "pygments_lexer": "ipython3",
   "version": "3.10.11"
  },
  "orig_nbformat": 4
 },
 "nbformat": 4,
 "nbformat_minor": 2
}
