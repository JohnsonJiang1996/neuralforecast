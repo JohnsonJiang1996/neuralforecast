{
 "cells": [
  {
   "cell_type": "code",
   "execution_count": 1,
   "metadata": {},
   "outputs": [],
   "source": [
    "import pandas as pd\n",
    "import os\n",
    "import matplotlib.pyplot as plt\n",
    "import numpy as np"
   ]
  },
  {
   "cell_type": "markdown",
   "metadata": {},
   "source": [
    "# Solar"
   ]
  },
  {
   "cell_type": "code",
   "execution_count": null,
   "metadata": {},
   "outputs": [],
   "source": [
    "lista = os.listdir('/Users/cchallu/Downloads/pa-pv-2006')\n",
    "df = []\n",
    "for file in lista[:5]:\n",
    "    data = pd.read_csv(f'/Users/cchallu/Downloads/pa-pv-2006/{file}')\n",
    "    unique_id = file.split('.')[0] + '_' + file.split('.')[1]+ '_' + file.split('.')[2]\n",
    "    data.columns = ['ds', 'y']\n",
    "    data['unique_id'] = unique_id\n",
    "    df.append(data)\n",
    "df = pd.concat(df).reset_index(drop=True)\n",
    "df = df[['unique_id', 'ds', 'y']]"
   ]
  },
  {
   "cell_type": "code",
   "execution_count": null,
   "metadata": {},
   "outputs": [],
   "source": [
    "df.to_csv('solar_pa.csv', index=False)"
   ]
  },
  {
   "cell_type": "markdown",
   "metadata": {},
   "source": [
    "# Air quality"
   ]
  },
  {
   "cell_type": "code",
   "execution_count": null,
   "metadata": {},
   "outputs": [],
   "source": [
    "data_air = pd.read_csv('new_data/air_quality.csv') # Download from https://github.com/WenjieDu/TSDB\n",
    "data_air['ds'] = data_air['year'].astype(str) + '-' + data_air['month'].astype(str).str.zfill(2) + '-' + data_air['day'].astype(str).str.zfill(2) + ' ' + data_air['hour'].astype(str).str.zfill(2) + ':00'\n",
    "data_air['ds'] = pd.to_datetime(data_air['ds'])\n",
    "\n",
    "df = []\n",
    "columns = ['PM2.5', 'PM10', 'TEMP']\n",
    "for column in columns:\n",
    "    data_filter = data_air[['station', 'ds', column]]\n",
    "    data_filter['unique_id'] = data_filter['station'] + '_' + column\n",
    "    data_filter = data_filter[['unique_id', 'ds', column]]\n",
    "    data_filter = data_filter.rename(columns={column: 'y'})\n",
    "    data_filter['y'] = data_filter['y'].ffill()\n",
    "    df.append(data_filter)\n",
    "data = pd.concat(df)"
   ]
  },
  {
   "cell_type": "code",
   "execution_count": null,
   "metadata": {},
   "outputs": [],
   "source": [
    "data.to_csv('new_data/airquality.csv', index=False)"
   ]
  },
  {
   "cell_type": "code",
   "execution_count": null,
   "metadata": {},
   "outputs": [],
   "source": [
    "data_plot = data[data['unique_id']==data['unique_id'].unique()[np.random.randint(data['unique_id'].nunique())]]\n",
    "print('len', len(data_plot))\n",
    "print('dataPlot', data_plot.head(1))\n",
    "plt.plot(data_plot['ds'][-500:], data_plot['y'][-500:])"
   ]
  },
  {
   "cell_type": "markdown",
   "metadata": {},
   "source": [
    "## Kaggle energy"
   ]
  },
  {
   "cell_type": "code",
   "execution_count": null,
   "metadata": {},
   "outputs": [],
   "source": [
    "raw_data = pd.read_csv('Load_history.csv')\n",
    "raw_data = raw_data.head(len(raw_data)-10)\n",
    "data = pd.wide_to_long(raw_data, stubnames='h', i=['zone_id', 'year', 'month','day'], j='hour').reset_index().rename(columns={'h':'y'})\n",
    "data['ds'] = data['year'].astype(str) + '-' + data['month'].astype(str).str.zfill(2) + '-' + data['day'].astype(str).str.zfill(2) + ' ' + (data['hour']-1).astype(str).str.zfill(2) + ':00'\n",
    "data['ds'] = pd.to_datetime(data['ds'])\n",
    "data['y'] = data['y'].str.replace(',','').astype(float)\n",
    "data = data[['zone_id', 'ds', 'y']]\n",
    "data.columns = ['unique_id', 'ds', 'y']"
   ]
  },
  {
   "cell_type": "code",
   "execution_count": null,
   "metadata": {},
   "outputs": [],
   "source": [
    "data.to_csv('new_data/energy_kaggle.csv', index=False)"
   ]
  },
  {
   "cell_type": "code",
   "execution_count": null,
   "metadata": {},
   "outputs": [],
   "source": [
    "data_plot = data[data['unique_id']==data['unique_id'].unique()[np.random.randint(data['unique_id'].nunique())]]\n",
    "print('len', len(data_plot))\n",
    "print('dataPlot', data_plot.head(1))\n",
    "plt.plot(data_plot['ds'][-500:], data_plot['y'][-500:])"
   ]
  },
  {
   "cell_type": "code",
   "execution_count": null,
   "metadata": {},
   "outputs": [],
   "source": []
  }
 ],
 "metadata": {
  "kernelspec": {
   "display_name": "neuralforecast",
   "language": "python",
   "name": "python3"
  },
  "language_info": {
   "codemirror_mode": {
    "name": "ipython",
    "version": 3
   },
   "file_extension": ".py",
   "mimetype": "text/x-python",
   "name": "python",
   "nbconvert_exporter": "python",
   "pygments_lexer": "ipython3",
   "version": "3.10.11"
  },
  "orig_nbformat": 4
 },
 "nbformat": 4,
 "nbformat_minor": 2
}
