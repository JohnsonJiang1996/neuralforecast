{
 "cells": [
  {
   "cell_type": "code",
   "execution_count": 10,
   "metadata": {},
   "outputs": [],
   "source": [
    "import pandas as pd\n",
    "import numpy as np\n",
    "import matpliotlib.pyplot as plt"
   ]
  },
  {
   "cell_type": "code",
   "execution_count": 47,
   "metadata": {},
   "outputs": [],
   "source": [
    "def aggregate_by_id_and_month(df, unique_id_col='unique_id', date_col='ds', value_col='y'):\n",
    "    # Group by 'unique_id' and month, then aggregate by summing up the 'value'\n",
    "    aggregated_df = df.groupby([unique_id_col, pd.Grouper(key=date_col, freq='M')]).agg({value_col: 'sum'}).reset_index()\n",
    "\n",
    "    # Formatting the date to only show YYYY-MM\n",
    "    #aggregated_df[date_col] = aggregated_df[date_col].dt.to_period('M')\n",
    "\n",
    "    return aggregated_df\n",
    "\n",
    "def aggregate_by_id_and_week(df, unique_id_col='unique_id', date_col='ds', value_col='y'):\n",
    "    # Group by 'unique_id' and month, then aggregate by summing up the 'value'\n",
    "    aggregated_df = df.groupby([unique_id_col, pd.Grouper(key=date_col, freq='W-WED')]).agg({value_col: 'sum'}).reset_index()\n",
    "\n",
    "    # Formatting the date to only show YYYY-MM\n",
    "    # aggregated_df[date_col] = aggregated_df[date_col].dt.to_period('W-WED')\n",
    "\n",
    "    return aggregated_df"
   ]
  },
  {
   "cell_type": "code",
   "execution_count": 48,
   "metadata": {},
   "outputs": [],
   "source": [
    "data = pd.read_csv('wiki_daily.csv')\n",
    "date_range = pd.date_range(start='2015-07-01', periods=803, freq='D').values\n",
    "date_range = np.tile(date_range, 145063)\n",
    "data['ds'] = pd.to_datetime(date_range)"
   ]
  },
  {
   "cell_type": "code",
   "execution_count": 49,
   "metadata": {},
   "outputs": [],
   "source": [
    "data_monthly = data.copy()\n",
    "data_monthly = data_monthly[data_monthly['ds'] <= '2017-08-31'].reset_index(drop=True)\n",
    "data_monthly = aggregate_by_id_and_month(data_monthly)"
   ]
  },
  {
   "cell_type": "code",
   "execution_count": 50,
   "metadata": {},
   "outputs": [],
   "source": [
    "data_weekly = data.copy()\n",
    "data_weekly = data_weekly[data_weekly['ds'] <= '2017-09-05'].reset_index(drop=True)\n",
    "data_weekly = aggregate_by_id_and_week(data_weekly)"
   ]
  },
  {
   "cell_type": "code",
   "execution_count": 53,
   "metadata": {},
   "outputs": [],
   "source": [
    "data_monthly.to_csv('wiki_monthly.csv', index=False)"
   ]
  },
  {
   "cell_type": "code",
   "execution_count": 54,
   "metadata": {},
   "outputs": [],
   "source": [
    "data_weekly.to_csv('wiki_weekly.csv', index=False)"
   ]
  },
  {
   "cell_type": "code",
   "execution_count": null,
   "metadata": {},
   "outputs": [],
   "source": []
  }
 ],
 "metadata": {
  "kernelspec": {
   "display_name": "neuralforecast",
   "language": "python",
   "name": "neuralforecast"
  },
  "language_info": {
   "codemirror_mode": {
    "name": "ipython",
    "version": 3
   },
   "file_extension": ".py",
   "mimetype": "text/x-python",
   "name": "python",
   "nbconvert_exporter": "python",
   "pygments_lexer": "ipython3",
   "version": "3.10.12"
  },
  "orig_nbformat": 4
 },
 "nbformat": 4,
 "nbformat_minor": 2
}
